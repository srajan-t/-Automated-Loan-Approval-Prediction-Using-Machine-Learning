import pandas as pd

# Load dataset
from google.colab import files
uploaded = files.upload()

# Then load:
df = pd.read_csv('loan_approval_dataset.csv')

# Clean column names by removing leading/trailing spaces
df.columns = df.columns.str.strip()

# View first 5 rows
display(df.head())
# Basic info and data types
df.info()

# Summary statistics
display(df.describe(include='all'))

# Check for missing values
display(df.isnull().sum())
# Drop 'loan_id' as it's just an identifier
df.drop('loan_id', axis=1, inplace=True)

# Convert target variable to numeric
# Check unique values in 'loan_status' before mapping
print("Unique values in 'loan_status':", df['loan_status'].unique())
df['loan_status'] = df['loan_status'].map({'Approved': 1, 'Rejected': 0})


# Handle categorical features: 'education', 'self_employed'
df['education'] = df['education'].map({'Graduate': 1, 'Not Graduate': 0})
df['self_employed'] = df['self_employed'].map({'Yes': 1, 'No': 0})

# Fill missing values if any (example strategy)
df.fillna(df.median(numeric_only=True), inplace=True)
import seaborn as sns
import matplotlib.pyplot as plt

# Correlation heatmap
plt.figure(figsize=(12, 6))
sns.heatmap(df.corr(), annot=True, cmap='coolwarm')
plt.title("Feature Correlation")
plt.show()

# Countplot for target variable
sns.countplot(x='loan_status', data=df)
plt.title("Loan Approval Distribution")
plt.show()
# Features and target
X = df.drop('loan_status', axis=1)
y = df['loan_status']

# Train-test split
from sklearn.model_selection import train_test_split

X_train, X_test, y_train, y_test = train_test_split(X, y, test_size=0.2, random_state=42)

from sklearn.ensemble import RandomForestClassifier

# Initialize model
model = RandomForestClassifier(n_estimators=100, random_state=42)

# Train the model
model.fit(X_train, y_train)

from sklearn.metrics import accuracy_score, confusion_matrix, classification_report

# Predict on test data
y_pred = model.predict(X_test)

# Accuracy
print("Accuracy:", accuracy_score(y_test, y_pred))

# Confusion Matrix
print("Confusion Matrix:\n", confusion_matrix(y_test, y_pred))

# Detailed Report
print("Classification Report:\n", classification_report(y_test, y_pred))

import joblib

# Save the model
joblib.dump(model, 'loan_approval_model.pkl')

# Load model
loaded_model = joblib.load('loan_approval_model.pkl')

# Predict on new example
new_applicant = X.iloc[0].values.reshape(1, -1)
print("Prediction:", loaded_model.predict(new_applicant))  # 1: Approved, 0: Rejected
